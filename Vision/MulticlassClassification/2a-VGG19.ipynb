{
 "cells": [
  {
   "cell_type": "code",
   "execution_count": null,
   "metadata": {},
   "outputs": [],
   "source": [
    "import tensorflow as tf\n",
    "import numpy as np\n",
    "\n",
    "import matplotlib.pyplot as plt\n",
    "from keras.preprocessing.image import ImageDataGenerator\n",
    "\n",
    "from tensorflow.keras import Model, optimizers\n",
    "from keras.layers import Dense, Flatten, Dropout"
   ]
  },
  {
   "attachments": {},
   "cell_type": "markdown",
   "metadata": {},
   "source": [
    "# Dataset loading"
   ]
  },
  {
   "cell_type": "code",
   "execution_count": null,
   "metadata": {},
   "outputs": [],
   "source": [
    "train_datagen = ImageDataGenerator(rescale=1/255)\n",
    "val_datagen = ImageDataGenerator(rescale=1/255)\n",
    "test_datagen = ImageDataGenerator(rescale=1/255)\n",
    "\n",
    "train_path = './images/train/'\n",
    "train_set = train_datagen.flow_from_directory(directory=train_path,target_size=(224,224),batch_size=32,color_mode=\"rgb\",class_mode = 'sparse')\n",
    "val_path = './images/val/'\n",
    "validation_set = val_datagen.flow_from_directory(directory=val_path,target_size=(224,224),batch_size=32,color_mode=\"rgb\",class_mode = 'sparse')\n",
    "test_path = './images/test/'\n",
    "test_set = test_datagen.flow_from_directory(directory=test_path,target_size=(224,224),batch_size=32,color_mode=\"rgb\",class_mode = 'sparse')"
   ]
  },
  {
   "cell_type": "code",
   "execution_count": null,
   "metadata": {},
   "outputs": [],
   "source": [
    "batch_size = 32\n",
    "img_height = 224\n",
    "img_width = 224"
   ]
  },
  {
   "cell_type": "code",
   "execution_count": null,
   "metadata": {},
   "outputs": [],
   "source": [
    "class_names = np.unique(train_set.classes)\n",
    "num_classes = len(class_names)\n",
    "print('There are:', num_classes, 'classes')"
   ]
  },
  {
   "attachments": {},
   "cell_type": "markdown",
   "metadata": {},
   "source": [
    "# Model"
   ]
  },
  {
   "cell_type": "code",
   "execution_count": null,
   "metadata": {},
   "outputs": [],
   "source": [
    "model = tf.keras.applications.vgg19.VGG19(\n",
    "    include_top=False,\n",
    "    weights='imagenet',\n",
    "    input_tensor=None,\n",
    "    input_shape=(img_height, img_width, 3),\n",
    "    pooling=None,\n",
    "    classes=102,\n",
    "    classifier_activation='softmax'\n",
    ")"
   ]
  },
  {
   "cell_type": "code",
   "execution_count": null,
   "metadata": {},
   "outputs": [],
   "source": [
    "x = model.output\n",
    "\n",
    "x = Flatten()(x) # Flatten dimensions to for use in FC layers\n",
    "x = Dense(4096, activation='relu')(x)\n",
    "x = Dropout(0.5)(x) # Dropout layer to reduce overfitting\n",
    "x = Dense(4096, activation='relu')(x)\n",
    "x = Dense(102, activation='softmax')(x) # Softmax for multiclass\n",
    "\n",
    "transfer_model = Model(inputs=model.input, outputs=x)"
   ]
  },
  {
   "cell_type": "code",
   "execution_count": null,
   "metadata": {},
   "outputs": [],
   "source": [
    "transfer_model.summary()"
   ]
  },
  {
   "attachments": {},
   "cell_type": "markdown",
   "metadata": {},
   "source": [
    "# Model training"
   ]
  },
  {
   "cell_type": "code",
   "execution_count": null,
   "metadata": {},
   "outputs": [],
   "source": [
    "epochs=10\n",
    "\n",
    "transfer_model.compile(loss=\"sparse_categorical_crossentropy\", optimizer=optimizers.SGD(momentum=0.01, nesterov=True), metrics=[\"accuracy\"])"
   ]
  },
  {
   "cell_type": "code",
   "execution_count": null,
   "metadata": {},
   "outputs": [],
   "source": [
    "history = transfer_model.fit(\n",
    "    train_set,\n",
    "    batch_size = 32,\n",
    "    epochs=epochs,\n",
    "    validation_data=(validation_set),\n",
    ")"
   ]
  },
  {
   "cell_type": "code",
   "execution_count": null,
   "metadata": {},
   "outputs": [],
   "source": [
    "acc = history.history['accuracy']\n",
    "val_acc = history.history['val_accuracy']\n",
    "\n",
    "loss = history.history['loss']\n",
    "val_loss = history.history['val_loss']\n",
    "\n",
    "epochs_range = range(epochs)\n",
    "\n",
    "plt.figure(figsize=(8, 8))\n",
    "plt.subplot(1, 2, 1)\n",
    "plt.plot(epochs_range, acc, label='Training Accuracy')\n",
    "plt.plot(epochs_range, val_acc, label='Validation Accuracy')\n",
    "plt.legend(loc='lower right')\n",
    "plt.title('Training and Validation Accuracy')\n",
    "\n",
    "plt.subplot(1, 2, 2)\n",
    "plt.plot(epochs_range, loss, label='Training Loss')\n",
    "plt.plot(epochs_range, val_loss, label='Validation Loss')\n",
    "plt.legend(loc='upper right')\n",
    "plt.title('Training and Validation Loss')\n",
    "plt.show()"
   ]
  },
  {
   "cell_type": "code",
   "execution_count": null,
   "metadata": {},
   "outputs": [],
   "source": [
    "# Generate generalization metrics\n",
    "score = transfer_model.evaluate(test_set, verbose=1)\n",
    "print(f'Test loss: {score[0]} / Test accuracy: {score[1]}')"
   ]
  }
 ],
 "metadata": {
  "colab": {
   "authorship_tag": "ABX9TyPfvAKl+8oDdC4sJXe0lUSB",
   "name": "VGG19.ipynb",
   "provenance": []
  },
  "gpuClass": "standard",
  "kernelspec": {
   "display_name": "deep",
   "language": "python",
   "name": "python3"
  },
  "language_info": {
   "codemirror_mode": {
    "name": "ipython",
    "version": 3
   },
   "file_extension": ".py",
   "mimetype": "text/x-python",
   "name": "python",
   "nbconvert_exporter": "python",
   "pygments_lexer": "ipython3"
  },
  "vscode": {
   "interpreter": {
    "hash": "0fbb2eb7ecfafb28534253a5b4b910d616254652eb0f191e54e95d07fee3586d"
   }
  }
 },
 "nbformat": 4,
 "nbformat_minor": 0
}
